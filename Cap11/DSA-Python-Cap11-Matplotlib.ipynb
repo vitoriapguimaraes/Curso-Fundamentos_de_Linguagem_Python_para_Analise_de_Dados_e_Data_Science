{
 "cells": [
  {
   "cell_type": "markdown",
   "metadata": {},
   "source": [
    "# <font color='blue'>Data Science Academy</font>\n",
    "\n",
    "## <font color='blue'>Fundamentos de Linguagem Python Para Análise de Dados e Data Science</font>\n",
    "\n",
    "## <font color='blue'>Visualização de Dados com Matplotlib</font>"
   ]
  },
  {
   "cell_type": "markdown",
   "metadata": {},
   "source": [
    "![DSA](imagens/dsa_cap11.png)"
   ]
  },
  {
   "cell_type": "code",
   "execution_count": null,
   "metadata": {},
   "outputs": [],
   "source": [
    "# Versão da Linguagem Python\n",
    "from platform import python_version\n",
    "print('Versão da Linguagem Python Usada Neste Jupyter Notebook:', python_version())"
   ]
  },
  {
   "cell_type": "markdown",
   "metadata": {},
   "source": [
    "## Matplotlib\n",
    "\n",
    "https://matplotlib.org/\n",
    "\n",
    "Matplotlib é uma biblioteca de visualização de dados em Python amplamente utilizada para criar gráficos e visualizações de alta qualidade em diversas áreas, como ciência de dados, engenharia, finanças, estatística, entre outras. É uma biblioteca extremamente poderosa, flexível e personalizável, que permite a criação de gráficos em 2D e 3D, histogramas, diagramas de dispersão, gráficos de linhas, entre outros.\n",
    "\n",
    "O Matplotlib oferece uma grande variedade de estilos de plotagem, tipos de gráficos e configurações de plotagem para personalização de gráficos. Ele é compatível com vários formatos de arquivos de imagem, como PNG, PDF, SVG, entre outros, permitindo a geração de imagens de alta qualidade para uso em publicações e apresentações.\n",
    "\n",
    "Além disso, o Matplotlib é uma biblioteca de código aberto e gratuita, com uma comunidade ativa de desenvolvedores e usuários, o que significa que há uma grande quantidade de documentação, exemplos e suporte disponíveis online."
   ]
  },
  {
   "cell_type": "code",
   "execution_count": 2,
   "metadata": {},
   "outputs": [],
   "source": [
    "# Instala a versão exata do pacote\n",
    "!pip install -q matplotlib==3.7.1"
   ]
  },
  {
   "cell_type": "code",
   "execution_count": 3,
   "metadata": {},
   "outputs": [],
   "source": [
    "import matplotlib as mpl"
   ]
  },
  {
   "cell_type": "code",
   "execution_count": null,
   "metadata": {},
   "outputs": [],
   "source": [
    "mpl.__version__"
   ]
  },
  {
   "cell_type": "markdown",
   "metadata": {
    "collapsed": true
   },
   "source": [
    "## Construindo Plots\n",
    "\n",
    "Plot é uma representação gráfica de dados em uma figura. Em outras palavras, é um gráfico que mostra a relação entre duas ou mais variáveis. Um plot pode ser criado usando uma biblioteca de visualização de dados, como o Matplotlib em Python.\n",
    "\n",
    "Os tipos mais comuns de plots incluem gráficos de linhas, gráficos de dispersão, histogramas e gráficos de barras. Cada tipo de plot é adequado para diferentes tipos de dados e propósitos de visualização. Por exemplo, um gráfico de linhas é útil para visualizar tendências em uma série temporal, enquanto um gráfico de dispersão é útil para mostrar a relação entre duas variáveis contínuas.\n",
    "\n",
    "A criação de um plot envolve a escolha dos dados a serem plotados, a seleção do tipo de plot e a configuração das opções de plotagem, como tamanho da figura, rótulos de eixo, título, cores, entre outros. Um plot bem criado pode fornecer insights valiosos sobre os dados, facilitando a compreensão e a comunicação das informações."
   ]
  },
  {
   "cell_type": "code",
   "execution_count": 5,
   "metadata": {},
   "outputs": [],
   "source": [
    "# O matplotlib.pyplot é uma coleção de funções e estilos do Matplotlib \n",
    "import matplotlib.pyplot as plt\n",
    "%matplotlib inline"
   ]
  },
  {
   "cell_type": "code",
   "execution_count": null,
   "metadata": {},
   "outputs": [],
   "source": [
    "# O método plot() define os eixos do gráfico\n",
    "plt.plot([1, 3, 5], [2, 4, 7])\n",
    "plt.show()"
   ]
  },
  {
   "cell_type": "code",
   "execution_count": 7,
   "metadata": {},
   "outputs": [],
   "source": [
    "x = [2, 3, 5]\n",
    "y = [3, 5, 7]"
   ]
  },
  {
   "cell_type": "code",
   "execution_count": null,
   "metadata": {},
   "outputs": [],
   "source": [
    "plt.plot(x, y)\n",
    "plt.xlabel('Variável 1')\n",
    "plt.ylabel('Variável 2')\n",
    "plt.title('Teste Plot')\n",
    "plt.show()"
   ]
  },
  {
   "cell_type": "code",
   "execution_count": 9,
   "metadata": {},
   "outputs": [],
   "source": [
    "x2 = [1, 2, 3]\n",
    "y2 = [11, 12, 15]"
   ]
  },
  {
   "cell_type": "code",
   "execution_count": null,
   "metadata": {},
   "outputs": [],
   "source": [
    "plt.plot(x2, y2, label = 'Gráfico com Matplotlib')\n",
    "plt.legend()\n",
    "plt.show()"
   ]
  },
  {
   "cell_type": "markdown",
   "metadata": {},
   "source": [
    "## Gráfico de Barras\n",
    "\n",
    "Gráfico de barras é um tipo de plotagem usado para representar dados categóricos com barras retangulares. Cada barra representa uma categoria e a altura da barra representa a quantidade ou frequência da categoria.\n",
    "\n",
    "O eixo horizontal do gráfico de barras mostra as categorias e o eixo vertical mostra a escala de medida dos dados. As barras podem ser vertical ou horizontal, dependendo da preferência do usuário.\n",
    "\n",
    "Os gráficos de barras são comumente usados para comparar a quantidade ou frequência de diferentes categorias. Eles são úteis para mostrar diferenças entre grupos e ajudam a visualizar rapidamente quais categorias têm valores maiores ou menores."
   ]
  },
  {
   "cell_type": "code",
   "execution_count": 11,
   "metadata": {},
   "outputs": [],
   "source": [
    "x1 = [2,4,6,8,10]\n",
    "y1 = [6,7,8,2,4]"
   ]
  },
  {
   "cell_type": "code",
   "execution_count": null,
   "metadata": {},
   "outputs": [],
   "source": [
    "plt.bar(x1, y1, label = 'Barras', color = 'green')\n",
    "plt.legend()\n",
    "plt.show()"
   ]
  },
  {
   "cell_type": "code",
   "execution_count": 13,
   "metadata": {},
   "outputs": [],
   "source": [
    "x2 = [1,3,5,7,9]\n",
    "y2 = [7,8,2,4,2]"
   ]
  },
  {
   "cell_type": "code",
   "execution_count": null,
   "metadata": {},
   "outputs": [],
   "source": [
    "plt.bar(x1, y1, label = 'Listas1', color = 'blue')\n",
    "plt.bar(x2, y2, label = 'Listas2', color = 'red')\n",
    "plt.legend()\n",
    "plt.show()"
   ]
  },
  {
   "cell_type": "code",
   "execution_count": 15,
   "metadata": {},
   "outputs": [],
   "source": [
    "idades = [22,65,45,55,21,22,34,42,41,4,99,101,120,122,130,111,115,80,75,54,44,64,13,18,48]"
   ]
  },
  {
   "cell_type": "code",
   "execution_count": 16,
   "metadata": {},
   "outputs": [],
   "source": [
    "ids = [x for x in range(len(idades))]"
   ]
  },
  {
   "cell_type": "code",
   "execution_count": null,
   "metadata": {},
   "outputs": [],
   "source": [
    "print(ids)"
   ]
  },
  {
   "cell_type": "code",
   "execution_count": null,
   "metadata": {},
   "outputs": [],
   "source": [
    "plt.bar(ids, idades)\n",
    "plt.show()"
   ]
  },
  {
   "cell_type": "code",
   "execution_count": 19,
   "metadata": {},
   "outputs": [],
   "source": [
    "bins = [0,10,20,30,40,50,60,70,80,90,100,110,120,130]"
   ]
  },
  {
   "cell_type": "code",
   "execution_count": null,
   "metadata": {},
   "outputs": [],
   "source": [
    "plt.hist(idades, bins, histtype = 'bar', rwidth = 0.8)\n",
    "plt.show()"
   ]
  },
  {
   "cell_type": "code",
   "execution_count": null,
   "metadata": {},
   "outputs": [],
   "source": [
    "plt.hist(idades, bins, histtype = 'stepfilled', rwidth = 0.8)\n",
    "plt.show()"
   ]
  },
  {
   "cell_type": "markdown",
   "metadata": {},
   "source": [
    "## Gráfico de Dispersão\n",
    "\n",
    "Gráfico de dispersão, também conhecido como gráfico de pontos, é um tipo de plotagem utilizado para representar a relação entre duas variáveis contínuas. Cada ponto no gráfico de dispersão representa um par de valores das duas variáveis, onde uma variável é plotada no eixo horizontal e outra no eixo vertical."
   ]
  },
  {
   "cell_type": "code",
   "execution_count": 22,
   "metadata": {},
   "outputs": [],
   "source": [
    "x = [1,2,3,4,5,6,7,8]\n",
    "y = [5,2,4,5,6,8,4,8]"
   ]
  },
  {
   "cell_type": "code",
   "execution_count": null,
   "metadata": {},
   "outputs": [],
   "source": [
    "plt.scatter(x, y, label = 'Pontos', color = 'r', marker = '*')\n",
    "plt.legend()\n",
    "plt.show()"
   ]
  },
  {
   "cell_type": "markdown",
   "metadata": {},
   "source": [
    "## Gráfico de Área Empilhada\n",
    "\n",
    "Stack plots, também conhecidos como gráficos de área empilhada, são um tipo de plotagem usados para visualizar a mudança relativa de diversas variáveis ao longo do tempo. Eles consistem em várias áreas coloridas empilhadas umas sobre as outras, onde a altura de cada área representa a magnitude da variável correspondente e a largura representa a escala de tempo.\n",
    "\n",
    "Os stack plots são úteis para mostrar como as partes contribuem para o todo ao longo do tempo. Por exemplo, eles podem ser usados para visualizar a mudança relativa de diferentes setores de uma indústria ao longo do tempo, ou a distribuição relativa de receitas e despesas de uma empresa em um determinado período."
   ]
  },
  {
   "cell_type": "code",
   "execution_count": 24,
   "metadata": {},
   "outputs": [],
   "source": [
    "dias = [1,2,3,4,5]\n",
    "dormir = [7,8,6,77,7]\n",
    "comer = [2,3,4,5,3]\n",
    "trabalhar = [7,8,7,2,2]\n",
    "passear = [8,5,7,8,13]"
   ]
  },
  {
   "cell_type": "code",
   "execution_count": null,
   "metadata": {},
   "outputs": [],
   "source": [
    "plt.stackplot(dias, dormir, comer, trabalhar, passear, colors = ['m','c','r','k','b'])\n",
    "plt.show()"
   ]
  },
  {
   "cell_type": "markdown",
   "metadata": {},
   "source": [
    "## Gráfico de Pizza\n",
    "\n",
    "Gráfico de Pizza (Pie Plot), também conhecido como gráfico de setores, é um tipo de plotagem que representa a composição de uma variável categórica em relação ao todo. Ele é representado por um círculo dividido em fatias que representam as proporções relativas das categorias.\n",
    "\n",
    "Cada fatia do gráfico de pizza corresponde a uma categoria e sua área é proporcional à porcentagem que a categoria representa do todo. A categoria mais representativa é geralmente posicionada na parte superior do círculo, enquanto as outras fatias são posicionadas em sentido horário.\n",
    "\n",
    "Os gráficos de pizza são comumente usados para mostrar a distribuição de dados em relação ao todo e para destacar as proporções relativas de diferentes categorias. Por exemplo, um gráfico de pizza pode ser usado para mostrar a distribuição de vendas por produto em uma empresa ou a distribuição de votos por partido em uma eleição."
   ]
  },
  {
   "cell_type": "code",
   "execution_count": 26,
   "metadata": {},
   "outputs": [],
   "source": [
    "fatias = [7, 2, 2, 13]\n",
    "atividades = ['dormir', 'comer', 'passear', 'trabalhar']\n",
    "cores = ['olive', 'lime', 'violet', 'royalblue']"
   ]
  },
  {
   "cell_type": "code",
   "execution_count": null,
   "metadata": {},
   "outputs": [],
   "source": [
    "plt.pie(fatias, labels = atividades, colors = cores, startangle = 90, shadow = True, explode = (0,0.2,0,0))\n",
    "plt.show()"
   ]
  },
  {
   "cell_type": "markdown",
   "metadata": {
    "collapsed": true
   },
   "source": [
    "## Criando Gráficos Customizados com Pylab\n",
    "\n",
    "Pylab é um módulo fornecido pela biblioteca Matplotlib que combina a funcionalidade do pacote NumPy com a funcionalidade do pacote pyplot. Ele fornece um ambiente de plotagem interativo, permitindo que os usuários criem rapidamente gráficos e visualizações de dados.\n",
    "\n",
    "O módulo Pylab inclui muitas funções úteis para plotagem de gráficos, como funções para criar gráficos de linha, gráficos de dispersão, gráficos de barras, gráficos de pizza, histogramas e muito mais. Ele também fornece funções para personalizar as configurações de plotagem, como títulos de eixo, rótulos de eixo, títulos de gráfico e cores."
   ]
  },
  {
   "cell_type": "code",
   "execution_count": 28,
   "metadata": {},
   "outputs": [],
   "source": [
    "# O Pylab combina funcionalidades do pyplot com funcionalidades do Numpy\n",
    "from pylab import *\n",
    "%matplotlib inline"
   ]
  },
  {
   "cell_type": "markdown",
   "metadata": {},
   "source": [
    "## Gráfico de Linha"
   ]
  },
  {
   "cell_type": "markdown",
   "metadata": {},
   "source": [
    "Gráfico de linha é um tipo de plotagem usado para representar a evolução do comportamento de uma variável com diferentes pontos de dados. O gráfico normalmente é usado com variáveis contínuas.\n",
    "\n",
    "No gráfico de linha, cada ponto de dados é representado por um ponto na linha. A linha conecta os pontos de dados.\n",
    "\n",
    "Os gráficos de linha são úteis para visualizar tendências e padrões em dados contínuos ao longo do tempo. Por exemplo, eles podem ser usados para mostrar a variação da temperatura ao longo de um período de tempo, a evolução da população em uma região ou a flutuação do valor de uma ação na bolsa de valores."
   ]
  },
  {
   "cell_type": "code",
   "execution_count": null,
   "metadata": {},
   "outputs": [],
   "source": [
    "# Gráfico de linha\n",
    "\n",
    "# Dados\n",
    "x = linspace(0, 5, 10)\n",
    "y = x ** 2\n",
    "\n",
    "# Cria a figura\n",
    "fig = plt.figure()\n",
    "\n",
    "# Define a escala dos eixos\n",
    "axes = fig.add_axes([0, 0, 0.8, 0.8])\n",
    "\n",
    "# Cria o plot\n",
    "axes.plot(x, y, 'r')\n",
    "\n",
    "# Labels e título\n",
    "axes.set_xlabel('x')\n",
    "axes.set_ylabel('y')\n",
    "axes.set_title('Gráfico de Linha');"
   ]
  },
  {
   "cell_type": "code",
   "execution_count": null,
   "metadata": {},
   "outputs": [],
   "source": [
    "# Gráficos de linha com 2 figuras\n",
    "\n",
    "# Dados\n",
    "x = linspace(0, 5, 10)\n",
    "y = x ** 2\n",
    "\n",
    "# Cria a figura\n",
    "fig = plt.figure()\n",
    "\n",
    "# Cria os eixos\n",
    "axes1 = fig.add_axes([0.1, 0.1, 0.8, 0.8]) # eixos da figura principal\n",
    "axes2 = fig.add_axes([0.2, 0.5, 0.4, 0.3]) # eixos da figura secundária\n",
    "\n",
    "# Figura principal\n",
    "axes1.plot(x, y, 'r')\n",
    "axes1.set_xlabel('x')\n",
    "axes1.set_ylabel('y')\n",
    "axes1.set_title('Figura Principal')\n",
    "\n",
    "# Figura secundária\n",
    "axes2.plot(y, x, 'g')\n",
    "axes2.set_xlabel('y')\n",
    "axes2.set_ylabel('x')\n",
    "axes2.set_title('Figura Secundária');"
   ]
  },
  {
   "cell_type": "code",
   "execution_count": null,
   "metadata": {},
   "outputs": [],
   "source": [
    "# Gráficos de linha em Paralelo\n",
    "\n",
    "# Dados\n",
    "x = linspace(0, 5, 10)\n",
    "y = x ** 2\n",
    "\n",
    "# Divide a área de plotagem em dois subplots\n",
    "fig, axes = plt.subplots(nrows = 1, ncols = 2)\n",
    "\n",
    "# Loop pelos eixos para criar cada plot\n",
    "for ax in axes:\n",
    "    ax.plot(x, y, 'r')\n",
    "    ax.set_xlabel('x')\n",
    "    ax.set_ylabel('y')\n",
    "    ax.set_title('Título')\n",
    "    \n",
    "# Ajusta o layout\n",
    "fig.tight_layout()"
   ]
  },
  {
   "cell_type": "code",
   "execution_count": null,
   "metadata": {},
   "outputs": [],
   "source": [
    "# Gráficos de linha com diferentes escalas\n",
    "\n",
    "# Dados\n",
    "x = linspace(0, 5, 10)\n",
    "y = x ** 2\n",
    "\n",
    "# Cria os subplots\n",
    "fig, axes = plt.subplots(1, 2, figsize = (10,4))\n",
    "      \n",
    "# Cria o plot1\n",
    "axes[0].plot(x, x**2, x, exp(x))\n",
    "axes[0].set_title(\"Escala Padrão\")\n",
    "\n",
    "# Cria o plot2\n",
    "axes[1].plot(x, x**2, x, exp(x))\n",
    "axes[1].set_yscale(\"log\")\n",
    "axes[1].set_title(\"Escala Logaritmica (y)\");"
   ]
  },
  {
   "cell_type": "code",
   "execution_count": null,
   "metadata": {},
   "outputs": [],
   "source": [
    "# Grid\n",
    "\n",
    "# Dados\n",
    "x = linspace(0, 5, 10)\n",
    "y = x ** 2\n",
    "\n",
    "# Cria os subplots\n",
    "fig, axes = plt.subplots(1, 2, figsize = (10,3))\n",
    "\n",
    "# Grid padrão\n",
    "axes[0].plot(x, x**2, x, x**3, lw = 2)\n",
    "axes[0].grid(True)\n",
    "\n",
    "# Grid customizado\n",
    "axes[1].plot(x, x**2, x, x**3, lw = 2)\n",
    "axes[1].grid(color = 'b', alpha = 0.7, linestyle = 'dashed', linewidth = 0.8)"
   ]
  },
  {
   "cell_type": "code",
   "execution_count": null,
   "metadata": {},
   "outputs": [],
   "source": [
    "# Diferentes estilos de Plots\n",
    "\n",
    "# Dados\n",
    "xx = np.linspace(-0.75, 1., 100)\n",
    "n = np.array([0,1,2,3,4,5])\n",
    "\n",
    "# Subplots\n",
    "fig, axes = plt.subplots(1, 4, figsize = (12,3))\n",
    "\n",
    "# Plot 1\n",
    "axes[0].scatter(xx, xx + 0.25 * randn(len(xx)), color = \"black\")\n",
    "axes[0].set_title(\"scatter\")\n",
    "\n",
    "# Plot 2\n",
    "axes[1].step(n, n ** 2, lw = 2, color = \"blue\")\n",
    "axes[1].set_title(\"step\")\n",
    "\n",
    "# Plot 3\n",
    "axes[2].bar(n, n ** 2, align = \"center\", width = 0.5, alpha = 0.5, color = \"magenta\")\n",
    "axes[2].set_title(\"bar\")\n",
    "\n",
    "# Plot 4\n",
    "axes[3].fill_between(x, x ** 2, x ** 3, alpha = 0.5, color = \"green\");\n",
    "axes[3].set_title(\"fill_between\");"
   ]
  },
  {
   "cell_type": "markdown",
   "metadata": {},
   "source": [
    "## Histogramas\n",
    "\n",
    "Histogramas são um tipo de plotagem utilizado para visualizar a distribuição de uma variável contínua. Eles são compostos por barras retangulares adjacentes, onde a área de cada barra é proporcional à frequência de observações de dados que caem em uma faixa específica de valores.\n",
    "\n",
    "No histograma, a variável contínua é dividida em faixas de valores, conhecidas como intervalos de classe. O eixo horizontal representa os intervalos de classe, enquanto o eixo vertical representa a frequência de observações de dados que caem em cada intervalo de classe. Os intervalos de classe devem ser escolhidos de forma apropriada para a distribuição dos dados e a escala dos eixos deve ser definida adequadamente.\n",
    "\n",
    "Os histogramas são úteis para visualizar a forma e a dispersão de uma distribuição de dados contínuos, como a altura de uma população ou as pontuações de um teste. Eles podem ajudar a identificar a presença de valores atípicos ou outliers nos dados e fornecer insights importantes sobre a distribuição dos dados."
   ]
  },
  {
   "cell_type": "code",
   "execution_count": null,
   "metadata": {},
   "outputs": [],
   "source": [
    "# Histogramas\n",
    "\n",
    "# Dados\n",
    "n = np.random.randn(100000)\n",
    "\n",
    "# Cria os subplots\n",
    "fig, axes = plt.subplots(1, 2, figsize = (12,4))\n",
    "\n",
    "# Plot 1\n",
    "axes[0].hist(n)\n",
    "axes[0].set_title(\"Histograma Padrão\")\n",
    "axes[0].set_xlim((min(n), max(n)))\n",
    "\n",
    "# Plot 2\n",
    "axes[1].hist(n, cumulative = True, bins = 50)\n",
    "axes[1].set_title(\"Histograma Cumulativo\")\n",
    "axes[1].set_xlim((min(n), max(n)));"
   ]
  },
  {
   "cell_type": "markdown",
   "metadata": {},
   "source": [
    "# Gráficos 3D"
   ]
  },
  {
   "cell_type": "code",
   "execution_count": 36,
   "metadata": {},
   "outputs": [],
   "source": [
    "from mpl_toolkits.mplot3d.axes3d import Axes3D"
   ]
  },
  {
   "cell_type": "code",
   "execution_count": 37,
   "metadata": {},
   "outputs": [],
   "source": [
    "# Dados\n",
    "alpha = 0.7\n",
    "phi_ext = 2 * np.pi * 0.5\n",
    "\n",
    "# Função para um mapa de cores\n",
    "def ColorMap(phi_m, phi_p):\n",
    "    return ( + alpha - 2 * np.cos(phi_p)*cos(phi_m) - alpha * np.cos(phi_ext - 2*phi_p))\n",
    "\n",
    "# Mais dados\n",
    "phi_m = np.linspace(0, 2*np.pi, 100)\n",
    "phi_p = np.linspace(0, 2*np.pi, 100)\n",
    "X,Y = np.meshgrid(phi_p, phi_m)\n",
    "Z = ColorMap(X, Y).T"
   ]
  },
  {
   "cell_type": "code",
   "execution_count": null,
   "metadata": {},
   "outputs": [],
   "source": [
    "# Cria a figura\n",
    "fig = plt.figure(figsize = (14,6))\n",
    "\n",
    "# Adiciona o subplot 1 com projeção 3d\n",
    "ax = fig.add_subplot(1, 2, 1, projection = '3d')\n",
    "p = ax.plot_surface(X, Y, Z, rstride=4, cstride=4, linewidth=0)\n",
    "\n",
    "# Adiciona o subplot 2 com projeção 3d\n",
    "ax = fig.add_subplot(1, 2, 2, projection = '3d')\n",
    "p = ax.plot_surface(X, Y, Z, rstride=1, cstride=1, cmap=cm.coolwarm, linewidth=0, antialiased=False)\n",
    "\n",
    "# Cria a barra de cores como legenda\n",
    "cb = fig.colorbar(p, shrink=0.5)"
   ]
  },
  {
   "cell_type": "code",
   "execution_count": null,
   "metadata": {},
   "outputs": [],
   "source": [
    "# Wire frame\n",
    "\n",
    "# Cria a figura\n",
    "fig = plt.figure(figsize=(8,6))\n",
    "\n",
    "# Subplot\n",
    "ax = fig.add_subplot(1, 1, 1, projection = '3d')\n",
    "\n",
    "# Wire frame\n",
    "p = ax.plot_wireframe(X, Y, Z, rstride=4, cstride=4)"
   ]
  },
  {
   "cell_type": "markdown",
   "metadata": {},
   "source": [
    "Para aprender a criar visualizações de dados eficientes e profissionais, acesse:\n",
    "    \n",
    "<a href=\"https://www.datascienceacademy.com.br/course/cincia-de-dados-aplicada\">Visualização de Dados e Design de Dashboards</a>"
   ]
  },
  {
   "cell_type": "markdown",
   "metadata": {},
   "source": [
    "# Fim"
   ]
  },
  {
   "cell_type": "markdown",
   "metadata": {},
   "source": [
    "\n",
    "### Obrigado\n",
    "\n",
    "### Visite o Blog da Data Science Academy - <a href=\"http://blog.dsacademy.com.br\">Blog DSA</a>\n"
   ]
  }
 ],
 "metadata": {
  "kernelspec": {
   "display_name": "Python 3 (ipykernel)",
   "language": "python",
   "name": "python3"
  },
  "language_info": {
   "codemirror_mode": {
    "name": "ipython",
    "version": 3
   },
   "file_extension": ".py",
   "mimetype": "text/x-python",
   "name": "python",
   "nbconvert_exporter": "python",
   "pygments_lexer": "ipython3",
   "version": "3.9.13"
  }
 },
 "nbformat": 4,
 "nbformat_minor": 1
}
